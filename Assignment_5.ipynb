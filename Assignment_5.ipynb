{
 "cells": [
  {
   "cell_type": "markdown",
   "id": "66484f5a",
   "metadata": {},
   "source": [
    "1.What does an empty dictionary's code look like?"
   ]
  },
  {
   "cell_type": "code",
   "execution_count": 3,
   "id": "8dbcbe2b",
   "metadata": {},
   "outputs": [
    {
     "data": {
      "text/plain": [
       "dict"
      ]
     },
     "execution_count": 3,
     "metadata": {},
     "output_type": "execute_result"
    }
   ],
   "source": [
    "d = {}\n",
    "type(d)"
   ]
  },
  {
   "cell_type": "markdown",
   "id": "adf3ade0",
   "metadata": {},
   "source": [
    "2. What is the value of a dictionary value with the key 'foo' and the value 42?"
   ]
  },
  {
   "cell_type": "code",
   "execution_count": 24,
   "id": "8bb8c674",
   "metadata": {},
   "outputs": [
    {
     "data": {
      "text/plain": [
       "{'foo': 42}"
      ]
     },
     "execution_count": 24,
     "metadata": {},
     "output_type": "execute_result"
    }
   ],
   "source": [
    "d ={'foo':42}\n",
    "d"
   ]
  },
  {
   "cell_type": "markdown",
   "id": "cb6e5118",
   "metadata": {},
   "source": [
    "3.What is the most significant distinction between a dictionary and a list?\n"
   ]
  },
  {
   "cell_type": "markdown",
   "id": "75ad5701",
   "metadata": {},
   "source": [
    "Dictionary - Dictionary does not have order.Instead of position,it contains key and value. E.g: {'a':1, 'b':2, 'c':3}\n",
    "\n",
    "List - List will be containing only values which will be in order ['a','b','c',1,2,3]"
   ]
  },
  {
   "cell_type": "markdown",
   "id": "67b0b79a",
   "metadata": {},
   "source": [
    "4.What happens if you try to access spam['foo'] if spam is {'bar': 100}?"
   ]
  },
  {
   "cell_type": "code",
   "execution_count": 8,
   "id": "b5e78d20",
   "metadata": {},
   "outputs": [
    {
     "ename": "KeyError",
     "evalue": "'foo'",
     "output_type": "error",
     "traceback": [
      "\u001b[1;31m---------------------------------------------------------------------------\u001b[0m",
      "\u001b[1;31mKeyError\u001b[0m                                  Traceback (most recent call last)",
      "\u001b[1;32m~\\AppData\\Local\\Temp\\ipykernel_15728\\987313003.py\u001b[0m in \u001b[0;36m<module>\u001b[1;34m\u001b[0m\n\u001b[0;32m      1\u001b[0m \u001b[1;31m#given :\u001b[0m\u001b[1;33m\u001b[0m\u001b[1;33m\u001b[0m\u001b[0m\n\u001b[0;32m      2\u001b[0m \u001b[0mspam\u001b[0m \u001b[1;33m=\u001b[0m \u001b[1;33m{\u001b[0m\u001b[1;34m'bar'\u001b[0m\u001b[1;33m:\u001b[0m \u001b[1;36m100\u001b[0m\u001b[1;33m}\u001b[0m\u001b[1;33m\u001b[0m\u001b[1;33m\u001b[0m\u001b[0m\n\u001b[1;32m----> 3\u001b[1;33m \u001b[0mspam\u001b[0m\u001b[1;33m[\u001b[0m\u001b[1;34m'foo'\u001b[0m\u001b[1;33m]\u001b[0m\u001b[1;33m\u001b[0m\u001b[1;33m\u001b[0m\u001b[0m\n\u001b[0m",
      "\u001b[1;31mKeyError\u001b[0m: 'foo'"
     ]
    }
   ],
   "source": [
    "#given : \n",
    "spam = {'bar': 100}\n",
    "spam['foo']"
   ]
  },
  {
   "cell_type": "markdown",
   "id": "4f31f4a6",
   "metadata": {},
   "source": [
    "Here , 'foo' is not mentioned as neither key nor value. Hence if we try to fetch it, it will throw error."
   ]
  },
  {
   "cell_type": "markdown",
   "id": "872f4a86",
   "metadata": {},
   "source": [
    "5.If a dictionary is stored in spam, what is the difference between the expressions 'cat' in spam and 'cat' in spam.keys()?"
   ]
  },
  {
   "cell_type": "code",
   "execution_count": 16,
   "id": "2e2bf49d",
   "metadata": {},
   "outputs": [
    {
     "data": {
      "text/plain": [
       "True"
      ]
     },
     "execution_count": 16,
     "metadata": {},
     "output_type": "execute_result"
    }
   ],
   "source": [
    "spam={'cat':1}\n",
    "'cat' in spam\n"
   ]
  },
  {
   "cell_type": "code",
   "execution_count": 18,
   "id": "7cef7d06",
   "metadata": {},
   "outputs": [
    {
     "data": {
      "text/plain": [
       "dict_keys(['cat'])"
      ]
     },
     "execution_count": 18,
     "metadata": {},
     "output_type": "execute_result"
    }
   ],
   "source": [
    "spam.keys()"
   ]
  },
  {
   "cell_type": "markdown",
   "id": "6684490e",
   "metadata": {},
   "source": [
    "'cat' in spam will check whether there is a key given as 'cat' or not and spam.keys() will also do the same. Infact the result of both will be same."
   ]
  },
  {
   "cell_type": "markdown",
   "id": "e36950cb",
   "metadata": {},
   "source": [
    "6.If a dictionary is stored in spam, what is the difference between the expressions 'cat' in spam and 'cat' in spam.values()?"
   ]
  },
  {
   "cell_type": "markdown",
   "id": "851249ca",
   "metadata": {},
   "source": [
    "'cat' in spam will check whether 'cat' is given as the key. 'cat' in spam.values() will check whether 'cat' is given as the value"
   ]
  },
  {
   "cell_type": "code",
   "execution_count": 20,
   "id": "2b72efbd",
   "metadata": {},
   "outputs": [
    {
     "data": {
      "text/plain": [
       "True"
      ]
     },
     "execution_count": 20,
     "metadata": {},
     "output_type": "execute_result"
    }
   ],
   "source": [
    "#eg :\n",
    "spam={'cat':1,2:'cat'}\n",
    "'cat' in spam # Will return true as 'cat' is present as a key"
   ]
  },
  {
   "cell_type": "code",
   "execution_count": 22,
   "id": "36935f25",
   "metadata": {},
   "outputs": [
    {
     "data": {
      "text/plain": [
       "True"
      ]
     },
     "execution_count": 22,
     "metadata": {},
     "output_type": "execute_result"
    }
   ],
   "source": [
    "'cat' in spam.values() #This will return true as 'cat' is present as a value"
   ]
  },
  {
   "cell_type": "markdown",
   "id": "5061f783",
   "metadata": {},
   "source": [
    "7.What is a shortcut for the following code?\n",
    "if 'color' not in spam:\n",
    "spam['color'] = 'black'\n"
   ]
  },
  {
   "cell_type": "code",
   "execution_count": 35,
   "id": "fe7c9278",
   "metadata": {},
   "outputs": [
    {
     "data": {
      "text/plain": [
       "'black'"
      ]
     },
     "execution_count": 35,
     "metadata": {},
     "output_type": "execute_result"
    }
   ],
   "source": [
    "spam.setdefault('color','black')"
   ]
  },
  {
   "cell_type": "markdown",
   "id": "6cd55128",
   "metadata": {},
   "source": [
    "8.How do you \"pretty print\" dictionary values using which module and function?\n"
   ]
  },
  {
   "cell_type": "code",
   "execution_count": 3,
   "id": "9a653272",
   "metadata": {},
   "outputs": [],
   "source": [
    "import pprint\n",
    "\n",
    "d_values = [\n",
    "    {'Name':\"Malavika\",'Age':27,'State':'Kerala'},\n",
    "     {'Name':\"Minna\",'Age':25,'State':'Karnataka'},\n",
    "     {'Name':\"Jacob\",'Age':23,'State':'Andhra Pradesh'},\n",
    "     {'Name':\"Mary\",'Age':33,'State':'Bihar'},\n",
    "    \n",
    "]"
   ]
  },
  {
   "cell_type": "code",
   "execution_count": 4,
   "id": "bee060e3",
   "metadata": {},
   "outputs": [
    {
     "name": "stdout",
     "output_type": "stream",
     "text": [
      "[{'Age': 27, 'Name': 'Malavika', 'State': 'Kerala'},\n",
      " {'Age': 25, 'Name': 'Minna', 'State': 'Karnataka'},\n",
      " {'Age': 23, 'Name': 'Jacob', 'State': 'Andhra Pradesh'},\n",
      " {'Age': 33, 'Name': 'Mary', 'State': 'Bihar'}]\n"
     ]
    }
   ],
   "source": [
    "pprint.pprint(d_values)"
   ]
  },
  {
   "cell_type": "code",
   "execution_count": null,
   "id": "055518ae",
   "metadata": {},
   "outputs": [],
   "source": []
  }
 ],
 "metadata": {
  "kernelspec": {
   "display_name": "Python 3 (ipykernel)",
   "language": "python",
   "name": "python3"
  },
  "language_info": {
   "codemirror_mode": {
    "name": "ipython",
    "version": 3
   },
   "file_extension": ".py",
   "mimetype": "text/x-python",
   "name": "python",
   "nbconvert_exporter": "python",
   "pygments_lexer": "ipython3",
   "version": "3.9.13"
  }
 },
 "nbformat": 4,
 "nbformat_minor": 5
}
