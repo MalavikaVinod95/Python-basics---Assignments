{
 "cells": [
  {
   "cell_type": "markdown",
   "id": "30d54740",
   "metadata": {},
   "source": [
    "1.What are the two values of the Boolean data type? How do you write them?"
   ]
  },
  {
   "cell_type": "markdown",
   "id": "de0c7baf",
   "metadata": {},
   "source": [
    "ans) Two values of Boolean data type are True and False. T and F should be in uppercase and the following alphabets should be in lowercase"
   ]
  },
  {
   "cell_type": "code",
   "execution_count": 10,
   "id": "08b4f003",
   "metadata": {},
   "outputs": [
    {
     "name": "stdout",
     "output_type": "stream",
     "text": [
      "True\n",
      "False\n"
     ]
    }
   ],
   "source": [
    "#For eg:\n",
    "x= True\n",
    "y = False\n",
    "print(x)\n",
    "print(y)\n"
   ]
  },
  {
   "cell_type": "markdown",
   "id": "b16ab97b",
   "metadata": {},
   "source": [
    "2.What are the three different types of Boolean operators?"
   ]
  },
  {
   "cell_type": "markdown",
   "id": "c4a93e68",
   "metadata": {},
   "source": [
    "ans) and , or , not"
   ]
  },
  {
   "cell_type": "markdown",
   "id": "7a66284a",
   "metadata": {},
   "source": [
    "3.Make a list of each Boolean operator's truth tables (i.e. every possible combination of Boolean values for the operator and what it evaluate )."
   ]
  },
  {
   "cell_type": "markdown",
   "id": "cef34d0a",
   "metadata": {},
   "source": [
    "Table of and operator\n",
    "\n",
    "True and True is True\n",
    "\n",
    "False and True is False\n",
    "\n",
    "True and False is False\n",
    "\n",
    "False and False is False\n",
    "\n",
    "Table of or operator\n",
    "\n",
    "True or True is True\n",
    "\n",
    "False or True is True\n",
    "\n",
    "True or False is True\n",
    "\n",
    "False or False is False\n",
    "\n",
    "Table of not operator\n",
    "\n",
    "not(True) is False\n",
    "\n",
    "not(False) is True\n"
   ]
  },
  {
   "cell_type": "markdown",
   "id": "f030f8f4",
   "metadata": {},
   "source": [
    "4.What are the values of the following expressions?\n",
    "(5 > 4) and (3 == 5)\n",
    "not (5 > 4)\n",
    "(5 > 4) or (3 == 5)\n",
    "not ((5 > 4) or (3 == 5))\n",
    "(True and True) and (True == False)\n",
    "(not False) or (not True)\n"
   ]
  },
  {
   "cell_type": "code",
   "execution_count": 6,
   "id": "e7975c90",
   "metadata": {},
   "outputs": [
    {
     "name": "stdout",
     "output_type": "stream",
     "text": [
      "False\n",
      "False\n",
      "True\n",
      "False\n",
      "False\n",
      "True\n"
     ]
    }
   ],
   "source": [
    "print((5 > 4) and (3 == 5))\n",
    "print(not (5 > 4))\n",
    "print((5 > 4) or (3 == 5))\n",
    "print(not ((5 > 4) or (3 == 5)))\n",
    "print((True and True) and (True == False))\n",
    "print((not False) or (not True))\n"
   ]
  },
  {
   "cell_type": "markdown",
   "id": "ff11db29",
   "metadata": {},
   "source": [
    "5.What are the six comparison operators?"
   ]
  },
  {
   "cell_type": "markdown",
   "id": "9088fa71",
   "metadata": {},
   "source": [
    "ans) == , != , > , < , >=, <="
   ]
  },
  {
   "cell_type": "markdown",
   "id": "f1821427",
   "metadata": {},
   "source": [
    "6.How do you tell the difference between the equal to and assignment operators?Describe a condition and when you would use one."
   ]
  },
  {
   "cell_type": "markdown",
   "id": "3c00559b",
   "metadata": {},
   "source": [
    "ans) = (assignment) operator is used to assign a value to the variable. and == (equal to) operator is used to comapre two values"
   ]
  },
  {
   "cell_type": "code",
   "execution_count": 8,
   "id": "0396fd61",
   "metadata": {},
   "outputs": [
    {
     "data": {
      "text/plain": [
       "False"
      ]
     },
     "execution_count": 8,
     "metadata": {},
     "output_type": "execute_result"
    }
   ],
   "source": [
    "#For Eg :we are using equal to operator to check whether the given values are same or not.\n",
    "3==5"
   ]
  },
  {
   "cell_type": "code",
   "execution_count": 9,
   "id": "54e0ab21",
   "metadata": {},
   "outputs": [],
   "source": [
    "#we are using equal to operator to check whether the given values are same or not.\n",
    "value = 5"
   ]
  },
  {
   "cell_type": "markdown",
   "id": "c6a4e21d",
   "metadata": {},
   "source": [
    "7.Identify the three blocks in this code:\n",
    "spam = 0\n",
    "if spam == 10:\n",
    "print('eggs')\n",
    "if spam > 5:\n",
    "print('bacon')\n",
    "else:\n",
    "print('ham')\n",
    "print('spam')\n",
    "print('spam')\n"
   ]
  },
  {
   "cell_type": "code",
   "execution_count": 14,
   "id": "e7e2bf89",
   "metadata": {},
   "outputs": [
    {
     "name": "stdout",
     "output_type": "stream",
     "text": [
      "ham\n",
      "spam\n",
      "spam\n"
     ]
    }
   ],
   "source": [
    "#ans)\n",
    "spam = 0\n",
    "if spam == 10:\n",
    "    print('eggs') #Block 1\n",
    "if spam > 5:\n",
    "    print('bacon') #Block2\n",
    "else:\n",
    "    print('ham') #Block3\n",
    "    print('spam')\n",
    "    print('spam')\n"
   ]
  },
  {
   "cell_type": "markdown",
   "id": "2e2e574c",
   "metadata": {},
   "source": [
    "8.Write code that prints Hello if 1 is stored in spam, prints Howdy if 2 is stored in spam, and prints Greetings! if anything else is stored in spam.\n",
    "\n"
   ]
  },
  {
   "cell_type": "code",
   "execution_count": 19,
   "id": "9470f49d",
   "metadata": {},
   "outputs": [
    {
     "name": "stdout",
     "output_type": "stream",
     "text": [
      "Enter the value:10\n",
      "Greetings!\n"
     ]
    }
   ],
   "source": [
    "#ans)\n",
    "spam = int(input(\"Enter the value:\"))\n",
    "if spam == 1 :\n",
    "        print(\"Hello\")\n",
    "elif spam == 2 :\n",
    "       print(\"Howdy\")\n",
    "else :\n",
    "    print(\"Greetings!\")\n",
    "                 "
   ]
  },
  {
   "cell_type": "markdown",
   "id": "c1db8836",
   "metadata": {},
   "source": [
    "9.If your programme is stuck in an endless loop, what keys you’ll press?"
   ]
  },
  {
   "cell_type": "markdown",
   "id": "ee1abe00",
   "metadata": {},
   "source": [
    "ans) We can press ctrl+c to stop a programme from endless loop"
   ]
  },
  {
   "cell_type": "markdown",
   "id": "78ea68f2",
   "metadata": {},
   "source": [
    "10.How can you tell the difference between break and continue?"
   ]
  },
  {
   "cell_type": "markdown",
   "id": "c0e69658",
   "metadata": {},
   "source": [
    "ans) Break statement is used to terminate from the loop if the given condition is true. \n",
    "\n",
    "Continue statement is used when we want to continue the execution of the loop. When a condition becomes true it will again begin the execution from the start of the iteration."
   ]
  },
  {
   "cell_type": "code",
   "execution_count": 46,
   "id": "b3165ef1",
   "metadata": {},
   "outputs": [
    {
     "name": "stdout",
     "output_type": "stream",
     "text": [
      "12\n",
      "34\n",
      "3\n"
     ]
    }
   ],
   "source": [
    "#Eg for break:\n",
    "m = [12,34,3,2,5,7,8]\n",
    "for i in m :\n",
    "    print(i)\n",
    "    if i == 3:\n",
    "        break\n",
    "        "
   ]
  },
  {
   "cell_type": "code",
   "execution_count": 44,
   "id": "a0dbcbae",
   "metadata": {},
   "outputs": [
    {
     "name": "stdout",
     "output_type": "stream",
     "text": [
      "12\n",
      "34\n",
      "3\n",
      "2\n",
      "5\n",
      "7\n",
      "8\n"
     ]
    }
   ],
   "source": [
    "#eg for continue\n",
    "m = [12,34,3,2,5,7,8]\n",
    "for i in m :\n",
    "    print(i)\n",
    "    if i == 3:\n",
    "        continue"
   ]
  },
  {
   "cell_type": "markdown",
   "id": "d39e45bf",
   "metadata": {},
   "source": [
    "11.In a for loop, what is the difference between range(10), range(0, 10), and range(0, 10, 1)?"
   ]
  },
  {
   "cell_type": "code",
   "execution_count": 50,
   "id": "20941261",
   "metadata": {},
   "outputs": [
    {
     "name": "stdout",
     "output_type": "stream",
     "text": [
      "0\n",
      "1\n",
      "2\n",
      "3\n",
      "4\n",
      "5\n",
      "6\n",
      "7\n",
      "8\n",
      "9\n"
     ]
    }
   ],
   "source": [
    "for i in range(10) :\n",
    "    print(i)"
   ]
  },
  {
   "cell_type": "code",
   "execution_count": 51,
   "id": "a4bc9779",
   "metadata": {},
   "outputs": [
    {
     "name": "stdout",
     "output_type": "stream",
     "text": [
      "0\n",
      "1\n",
      "2\n",
      "3\n",
      "4\n",
      "5\n",
      "6\n",
      "7\n",
      "8\n",
      "9\n"
     ]
    }
   ],
   "source": [
    "for i in range(0,10) :\n",
    "    print(i)"
   ]
  },
  {
   "cell_type": "code",
   "execution_count": 52,
   "id": "0e93f79a",
   "metadata": {},
   "outputs": [
    {
     "name": "stdout",
     "output_type": "stream",
     "text": [
      "0\n",
      "1\n",
      "2\n",
      "3\n",
      "4\n",
      "5\n",
      "6\n",
      "7\n",
      "8\n",
      "9\n"
     ]
    }
   ],
   "source": [
    "for i in range(0,10,1) :\n",
    "    print(i)"
   ]
  },
  {
   "cell_type": "markdown",
   "id": "85cee150",
   "metadata": {},
   "source": [
    "Basically range(10), range(0, 10), and range(0, 10, 1) are same.\n",
    "\n",
    "range(10) --> The range is set till 10 and the range will start from 0.It will not include 10 while printing as the range ends at 10.\n",
    "\n",
    "range(0,10) --> Here, both the satrting range and ending range have mentioned properly but the functionality is same as range(10). \n",
    "\n",
    "range(0,10,1) --> Here the range is same , but it is mentioned to move to the next variable by 1 step which functions as same as range(10)"
   ]
  },
  {
   "cell_type": "markdown",
   "id": "322f35d7",
   "metadata": {},
   "source": [
    "12.Write a short program that prints the numbers 1 to 10 using a for loop. Then write an equivalent program that prints the numbers 1 to 10 using a while loop."
   ]
  },
  {
   "cell_type": "code",
   "execution_count": 56,
   "id": "f99c3b88",
   "metadata": {},
   "outputs": [
    {
     "name": "stdout",
     "output_type": "stream",
     "text": [
      "1\n",
      "2\n",
      "3\n",
      "4\n",
      "5\n",
      "6\n",
      "7\n",
      "8\n",
      "9\n",
      "10\n"
     ]
    }
   ],
   "source": [
    "#for loop\n",
    "\n",
    "for i in range(1,11) :\n",
    "    print(i)"
   ]
  },
  {
   "cell_type": "code",
   "execution_count": 1,
   "id": "e075e481",
   "metadata": {},
   "outputs": [
    {
     "name": "stdout",
     "output_type": "stream",
     "text": [
      "1\n",
      "2\n",
      "3\n",
      "4\n",
      "5\n",
      "6\n",
      "7\n",
      "8\n",
      "9\n",
      "10\n"
     ]
    }
   ],
   "source": [
    "#while loop\n",
    "\n",
    "v = 1\n",
    "while v<=10 :\n",
    "    print(v)\n",
    "    v = v+1"
   ]
  },
  {
   "cell_type": "markdown",
   "id": "ed516caa",
   "metadata": {},
   "source": [
    "13.If you had a function named bacon() inside a module named spam, how would you call it after importing spam?"
   ]
  },
  {
   "cell_type": "markdown",
   "id": "9333a3f2",
   "metadata": {},
   "source": [
    "ans) Function can be called with spam.bacon()"
   ]
  },
  {
   "cell_type": "code",
   "execution_count": null,
   "id": "7158d908",
   "metadata": {},
   "outputs": [],
   "source": []
  }
 ],
 "metadata": {
  "kernelspec": {
   "display_name": "Python 3 (ipykernel)",
   "language": "python",
   "name": "python3"
  },
  "language_info": {
   "codemirror_mode": {
    "name": "ipython",
    "version": 3
   },
   "file_extension": ".py",
   "mimetype": "text/x-python",
   "name": "python",
   "nbconvert_exporter": "python",
   "pygments_lexer": "ipython3",
   "version": "3.9.13"
  }
 },
 "nbformat": 4,
 "nbformat_minor": 5
}
