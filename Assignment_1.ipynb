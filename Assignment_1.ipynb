{
 "cells": [
  {
   "cell_type": "markdown",
   "id": "4ef156fb",
   "metadata": {},
   "source": [
    "1.In the below elements which of them are values or an expression? eg:- values can be integer or string and expressions will be mathematical operators.\n",
    "* \n",
    "'hello'\n",
    "-87.8\n",
    "- \n",
    "/ \n",
    "+\t\n",
    "6 \n"
   ]
  },
  {
   "cell_type": "markdown",
   "id": "886b6ed0",
   "metadata": {},
   "source": [
    "ans ) * > expressions\n",
    "\n",
    "'hello' > value\n",
    "\n",
    "-87.8 > value\n",
    "\n",
    "-,  expressions\n",
    "\n",
    "/  > expressions\n",
    "\n",
    "+,\t> expressions\n",
    "\n",
    "6 > value\n"
   ]
  },
  {
   "cell_type": "markdown",
   "id": "0ed48d97",
   "metadata": {},
   "source": [
    "2.What is the difference between string and variable?"
   ]
  },
  {
   "cell_type": "markdown",
   "id": "294ddfd5",
   "metadata": {},
   "source": [
    "ans) Variables are used to store a value. For eg: value1 = 1234. Here value1 holds the integer and it is a variable.\n",
    "\n",
    "  String is a type of data. For eg : value2 = \"Hello there\" . Here \"Hello there\" is the data and it is of type string. "
   ]
  },
  {
   "cell_type": "markdown",
   "id": "8961272c",
   "metadata": {},
   "source": [
    "3.Describe three different data types."
   ]
  },
  {
   "cell_type": "markdown",
   "id": "9292aa6c",
   "metadata": {},
   "source": [
    "ans) Integer - Integer is used to store whole numbers . Eg : 10 is an integer value \n",
    "\n",
    "    Float - Float is used when a number contains a decimal point. Eg: 67.90 is a float value\n",
    "    \n",
    "    Boolean - Boolean can be used when we need a true or false / Yes or no answer . Eg : Will it rain today? No . Here 'No' is a boolean type."
   ]
  },
  {
   "cell_type": "markdown",
   "id": "ff3c837a",
   "metadata": {},
   "source": [
    "4.What is an expression made up of? What do all expressions do?"
   ]
  },
  {
   "cell_type": "markdown",
   "id": "d4ac03c8",
   "metadata": {},
   "source": [
    "ans) Expressions are combinations of values and operators. In an expression the value and operator evaluate and produce a single value. For Eg : 2+4 .Here 2 and 4 are integer value and '+' operator will allow the value to be evaluated. "
   ]
  },
  {
   "cell_type": "markdown",
   "id": "e8fc0f85",
   "metadata": {},
   "source": [
    "5.This assignment statements, like spam = 10. What is the difference between an expression and a statement?"
   ]
  },
  {
   "cell_type": "markdown",
   "id": "ff4486f6",
   "metadata": {},
   "source": [
    "ans) Statement represent an action or command. For eg : print() allows to perform an action.\n",
    "    \n",
    "Whereas expression is a combination of values and operators. For eg : 5%4 . Here 5 and 4 are values and % is an operator and together they produce a resultant"
   ]
  },
  {
   "cell_type": "markdown",
   "id": "c5b7ec5a",
   "metadata": {},
   "source": [
    "6.After running the following code, what does the variable bacon contain?\n",
    "bacon = 22\n",
    "bacon + 1\n"
   ]
  },
  {
   "cell_type": "markdown",
   "id": "6ea829c0",
   "metadata": {},
   "source": [
    "ans)"
   ]
  },
  {
   "cell_type": "code",
   "execution_count": 6,
   "id": "6d28c13b",
   "metadata": {},
   "outputs": [
    {
     "data": {
      "text/plain": [
       "23"
      ]
     },
     "execution_count": 6,
     "metadata": {},
     "output_type": "execute_result"
    }
   ],
   "source": [
    "bacon = 22 \n",
    "bacon + 1"
   ]
  },
  {
   "cell_type": "code",
   "execution_count": 7,
   "id": "71716987",
   "metadata": {},
   "outputs": [
    {
     "data": {
      "text/plain": [
       "22"
      ]
     },
     "execution_count": 7,
     "metadata": {},
     "output_type": "execute_result"
    }
   ],
   "source": [
    "bacon"
   ]
  },
  {
   "cell_type": "markdown",
   "id": "74a98e40",
   "metadata": {},
   "source": [
    "Value of bacon remains 22 as it is not assigned to any particular variable after addition of 1"
   ]
  },
  {
   "cell_type": "markdown",
   "id": "f680a58f",
   "metadata": {},
   "source": [
    "7.What should the values of the following two terms be?\n",
    "'spam' + 'spamspam'\n",
    "'spam' * 3\n",
    "\n",
    "ans)"
   ]
  },
  {
   "cell_type": "code",
   "execution_count": 9,
   "id": "9b3a1fc0",
   "metadata": {},
   "outputs": [
    {
     "data": {
      "text/plain": [
       "'spamspamspam'"
      ]
     },
     "execution_count": 9,
     "metadata": {},
     "output_type": "execute_result"
    }
   ],
   "source": [
    "'spam' + 'spamspam'"
   ]
  },
  {
   "cell_type": "code",
   "execution_count": 10,
   "id": "cef157ad",
   "metadata": {},
   "outputs": [
    {
     "data": {
      "text/plain": [
       "'spamspamspam'"
      ]
     },
     "execution_count": 10,
     "metadata": {},
     "output_type": "execute_result"
    }
   ],
   "source": [
    "'spam' * 3"
   ]
  },
  {
   "cell_type": "markdown",
   "id": "6d60cf19",
   "metadata": {},
   "source": [
    "8.Why is eggs a valid variable name while 100 is invalid?"
   ]
  },
  {
   "cell_type": "markdown",
   "id": "f1a1b7f8",
   "metadata": {},
   "source": [
    "ans ) A variable name should always start with a letter or underscore and cannot start with a number."
   ]
  },
  {
   "cell_type": "markdown",
   "id": "df3c26de",
   "metadata": {},
   "source": [
    "9.What three functions can be used to get the integer, floating-point number, or string version of a value"
   ]
  },
  {
   "cell_type": "markdown",
   "id": "2921716f",
   "metadata": {},
   "source": [
    "ans) For integer -> int()\n",
    "\n",
    "For Float -> float()\n",
    "\n",
    "For string -> str()"
   ]
  },
  {
   "cell_type": "markdown",
   "id": "1c4bdba0",
   "metadata": {},
   "source": [
    "10.Why does this expression cause an error? How can you fix it?\n",
    "'I have eaten ' + 99 + ' burritos.'\n",
    "\n"
   ]
  },
  {
   "cell_type": "markdown",
   "id": "6b9fb9f5",
   "metadata": {},
   "source": [
    "ans) Here, 'I have eaten ' and 'buriitos' are string and 99 is an integer. We can fix this by making it into a single sentence which will be of type string. 'I have eaten  99  burritos'."
   ]
  },
  {
   "cell_type": "markdown",
   "id": "cf886995",
   "metadata": {},
   "source": [
    "                                   ------------------ END ----------------------------------"
   ]
  },
  {
   "cell_type": "code",
   "execution_count": null,
   "id": "928d1fcc",
   "metadata": {},
   "outputs": [],
   "source": []
  }
 ],
 "metadata": {
  "kernelspec": {
   "display_name": "Python 3 (ipykernel)",
   "language": "python",
   "name": "python3"
  },
  "language_info": {
   "codemirror_mode": {
    "name": "ipython",
    "version": 3
   },
   "file_extension": ".py",
   "mimetype": "text/x-python",
   "name": "python",
   "nbconvert_exporter": "python",
   "pygments_lexer": "ipython3",
   "version": "3.9.13"
  }
 },
 "nbformat": 4,
 "nbformat_minor": 5
}
