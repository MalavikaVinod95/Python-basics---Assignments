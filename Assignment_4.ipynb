{
 "cells": [
  {
   "cell_type": "markdown",
   "id": "c92e306a",
   "metadata": {},
   "source": [
    "1.What exactly is []?"
   ]
  },
  {
   "cell_type": "markdown",
   "id": "384b76b2",
   "metadata": {},
   "source": [
    "ans) This is a empty list value , which is a list which contains no value"
   ]
  },
  {
   "cell_type": "markdown",
   "id": "9bf3e7d0",
   "metadata": {},
   "source": [
    "2.In a list of values stored in a variable called spam, how would you assign the value 'hello' as the third value? (Assume [2, 4, 6, 8, 10] are in spam.)"
   ]
  },
  {
   "cell_type": "code",
   "execution_count": 30,
   "id": "66eab399",
   "metadata": {},
   "outputs": [],
   "source": [
    "spam =  [2, 4, 6, 8, 10]\n",
    "spam[2] = 'hello' #assigning hello as the third value"
   ]
  },
  {
   "cell_type": "code",
   "execution_count": 2,
   "id": "9e419db8",
   "metadata": {},
   "outputs": [
    {
     "data": {
      "text/plain": [
       "[2, 4, 6, 'hello', 10]"
      ]
     },
     "execution_count": 2,
     "metadata": {},
     "output_type": "execute_result"
    }
   ],
   "source": [
    "spam"
   ]
  },
  {
   "cell_type": "markdown",
   "id": "d07018ad",
   "metadata": {},
   "source": [
    "3.What is the value of spam[int(int('3' * 2) / 11)]?\n"
   ]
  },
  {
   "cell_type": "code",
   "execution_count": 31,
   "id": "336df1ad",
   "metadata": {},
   "outputs": [
    {
     "data": {
      "text/plain": [
       "'d'"
      ]
     },
     "execution_count": 31,
     "metadata": {},
     "output_type": "execute_result"
    }
   ],
   "source": [
    "spam =  ['a', 'b', 'c', 'd']\n",
    "spam[int(int('3' * 2) / 11)] # display the value in 3rd index"
   ]
  },
  {
   "cell_type": "markdown",
   "id": "bc583389",
   "metadata": {},
   "source": [
    "4.What is the value of spam[-1]?"
   ]
  },
  {
   "cell_type": "code",
   "execution_count": 18,
   "id": "732fc64e",
   "metadata": {},
   "outputs": [
    {
     "data": {
      "text/plain": [
       "'d'"
      ]
     },
     "execution_count": 18,
     "metadata": {},
     "output_type": "execute_result"
    }
   ],
   "source": [
    "spam =  ['a', 'b', 'c', 'd']\n",
    "spam[-1] # display the last value"
   ]
  },
  {
   "cell_type": "markdown",
   "id": "324ccae1",
   "metadata": {},
   "source": [
    "5.What is the value of spam[:2]?"
   ]
  },
  {
   "cell_type": "code",
   "execution_count": 22,
   "id": "42efcfdc",
   "metadata": {},
   "outputs": [
    {
     "data": {
      "text/plain": [
       "['a', 'b']"
      ]
     },
     "execution_count": 22,
     "metadata": {},
     "output_type": "execute_result"
    }
   ],
   "source": [
    "spam =  ['a', 'b', 'c', 'd']\n",
    "spam[:2] # display the values till position 2"
   ]
  },
  {
   "cell_type": "markdown",
   "id": "ab65eb5e",
   "metadata": {},
   "source": [
    "6.What is the value of bacon.index(&#39;cat&#39;)?"
   ]
  },
  {
   "cell_type": "code",
   "execution_count": 23,
   "id": "34dc1dca",
   "metadata": {},
   "outputs": [
    {
     "data": {
      "text/plain": [
       "1"
      ]
     },
     "execution_count": 23,
     "metadata": {},
     "output_type": "execute_result"
    }
   ],
   "source": [
    "bacon = [3.14,'cat',11,'cat',True]\n",
    "bacon.index('cat') # will provide the index of first occurance of cat"
   ]
  },
  {
   "cell_type": "markdown",
   "id": "45695703",
   "metadata": {},
   "source": [
    "7.How does bacon.append(99) change the look of the list value in bacon?"
   ]
  },
  {
   "cell_type": "code",
   "execution_count": 25,
   "id": "1f77abac",
   "metadata": {},
   "outputs": [
    {
     "data": {
      "text/plain": [
       "[3.14, 'cat', 11, 'cat', True, 99]"
      ]
     },
     "execution_count": 25,
     "metadata": {},
     "output_type": "execute_result"
    }
   ],
   "source": [
    "bacon = [3.14,'cat',11,'cat',True]\n",
    "bacon.append(99) # 99 gets appended as the last value in the list\n",
    "bacon"
   ]
  },
  {
   "cell_type": "markdown",
   "id": "f5f509af",
   "metadata": {},
   "source": [
    "8.How does bacon.remove('cat') change the look of the list in bacon?"
   ]
  },
  {
   "cell_type": "code",
   "execution_count": 34,
   "id": "e05be806",
   "metadata": {},
   "outputs": [
    {
     "data": {
      "text/plain": [
       "[3.14, 11, 'cat', True]"
      ]
     },
     "execution_count": 34,
     "metadata": {},
     "output_type": "execute_result"
    }
   ],
   "source": [
    "bacon = [3.14,'cat',11,'cat',True]\n",
    "bacon.remove('cat')  # removes the first occurance of cat\n",
    "bacon"
   ]
  },
  {
   "cell_type": "markdown",
   "id": "1090af01",
   "metadata": {},
   "source": [
    "9.What are the list concatenation and list replication operators?"
   ]
  },
  {
   "cell_type": "markdown",
   "id": "b7495866",
   "metadata": {},
   "source": [
    "List concatenation operator - (+)\n",
    "List replication operator - (*)"
   ]
  },
  {
   "cell_type": "code",
   "execution_count": 8,
   "id": "0569cf1d",
   "metadata": {},
   "outputs": [
    {
     "name": "stdout",
     "output_type": "stream",
     "text": [
      "List concatenation operator [1, 2, 3, 4]\n",
      "List replication operator [1, 2, 1, 2, 1, 2]\n"
     ]
    }
   ],
   "source": [
    "#Eg for List concatenation & list replication :\n",
    "\n",
    "l1 = [1,2]\n",
    "l2 = [3,4]\n",
    "print(\"List concatenation operator\",l1+l2)\n",
    "print(\"List replication operator\",(l1*3))\n"
   ]
  },
  {
   "cell_type": "markdown",
   "id": "14bfd250",
   "metadata": {},
   "source": [
    "10.What is difference between the list methods append() and insert()?"
   ]
  },
  {
   "cell_type": "markdown",
   "id": "be447099",
   "metadata": {},
   "source": [
    "\n",
    "ans) append() : Append method will allow to add values to the end of the list.\n",
    "    \n",
    "Declaring append() :  Name of the list followed by append method. Inside the append method we have to mention the value which needs to be appended.\n",
    "\n",
    "insert() : Insert method allows us to insert values to a specific position.\n",
    "Declaring insert() :  Followed by list name, inside insert method we have to mention the position and the value that needs to be inserted. "
   ]
  },
  {
   "cell_type": "code",
   "execution_count": 35,
   "id": "b9933dc2",
   "metadata": {},
   "outputs": [
    {
     "name": "stdout",
     "output_type": "stream",
     "text": [
      "Append: [1, 2, 3, 4, 5, 'Hello']\n",
      "insert: [1, 2, 3, 'Hello', 4, 5]\n"
     ]
    }
   ],
   "source": [
    "#for eg :\n",
    "#append()\n",
    "l = [1,2,3,4,5] # value1\n",
    "s = \"Hello\" #value2\n",
    "l.append(s)\n",
    "print(\"Append:\" ,l)\n",
    "#insert\n",
    "r = [1,2,3,4,5]\n",
    "r.insert(3,\"Hello\")\n",
    "print(\"insert:\",r)"
   ]
  },
  {
   "cell_type": "markdown",
   "id": "6d01b1ee",
   "metadata": {},
   "source": [
    "11.What are the two methods for removing items from a list?"
   ]
  },
  {
   "cell_type": "markdown",
   "id": "ea8d5bc0",
   "metadata": {},
   "source": [
    "ans) Two methods to remove items are pop() and remove()\n",
    "\n",
    "pop() : Pop() will remove the last occuring value from the list\n",
    "\n",
    "remove() : We have to specify the value to be removed"
   ]
  },
  {
   "cell_type": "code",
   "execution_count": 47,
   "id": "70a48def",
   "metadata": {},
   "outputs": [
    {
     "name": "stdout",
     "output_type": "stream",
     "text": [
      "Using pop: ['hello', 1, 2, 3, 23.4]\n",
      "Using remove: ['hello', 2, 3, 23.4]\n"
     ]
    }
   ],
   "source": [
    "#for Eg :\n",
    "c = [\"hello\", 1,2,3,23.4,3.14]\n",
    "c.pop()\n",
    "print(\"Using pop:\",c)\n",
    "c.remove(1) # removing value 1\n",
    "print(\"Using remove:\",c)"
   ]
  },
  {
   "cell_type": "markdown",
   "id": "dfb7b7aa",
   "metadata": {},
   "source": [
    "12.Describe how list values and string values are identical."
   ]
  },
  {
   "cell_type": "markdown",
   "id": "3a63f957",
   "metadata": {},
   "source": [
    "ans) List values are similar to string values because both are ordered collection of characters. Hence, we can iterate through every single value/character in both string and list. In short, both list and string values are iterable."
   ]
  },
  {
   "cell_type": "markdown",
   "id": "9024ee32",
   "metadata": {},
   "source": [
    "13.What's the difference between tuples and lists?"
   ]
  },
  {
   "cell_type": "markdown",
   "id": "aae63ab7",
   "metadata": {},
   "source": [
    "ans) tuples : tuples are enclosed within () . Tuples cannot be modified, they are immutable.\n",
    "\n",
    "list: list are enclosed within []. We can modify list, they are mutable."
   ]
  },
  {
   "cell_type": "markdown",
   "id": "e80f2173",
   "metadata": {},
   "source": [
    "14.How do you type a tuple value that only contains the integer 42?"
   ]
  },
  {
   "cell_type": "code",
   "execution_count": 10,
   "id": "c9681272",
   "metadata": {},
   "outputs": [
    {
     "data": {
      "text/plain": [
       "42"
      ]
     },
     "execution_count": 10,
     "metadata": {},
     "output_type": "execute_result"
    }
   ],
   "source": [
    "t = (42)\n",
    "t"
   ]
  },
  {
   "cell_type": "markdown",
   "id": "bfe6fd3a",
   "metadata": {},
   "source": [
    "15.How do you get a list value's tuple form? How do you get a tuple value's list form?"
   ]
  },
  {
   "cell_type": "code",
   "execution_count": 51,
   "id": "aa911d86",
   "metadata": {},
   "outputs": [
    {
     "data": {
      "text/plain": [
       "(1, 2, 3, 4, 5)"
      ]
     },
     "execution_count": 51,
     "metadata": {},
     "output_type": "execute_result"
    }
   ],
   "source": [
    "#list value's tuple form\n",
    "l =[1,2,3,4,5]\n",
    "l1 = tuple(l)\n",
    "l1"
   ]
  },
  {
   "cell_type": "code",
   "execution_count": 52,
   "id": "1113e193",
   "metadata": {},
   "outputs": [
    {
     "data": {
      "text/plain": [
       "[1, 2, 3, 4, 5]"
      ]
     },
     "execution_count": 52,
     "metadata": {},
     "output_type": "execute_result"
    }
   ],
   "source": [
    "#tuple value's list form\n",
    "t = (1,2,3,4,5)\n",
    "t1 = list(t)\n",
    "t1"
   ]
  },
  {
   "cell_type": "markdown",
   "id": "50e1fb68",
   "metadata": {},
   "source": [
    "16.Variables that \"contain\" list values are not necessarily lists themselves. Instead, what do they contain?"
   ]
  },
  {
   "cell_type": "markdown",
   "id": "527b1635",
   "metadata": {},
   "source": [
    "ans) Variables will contain references to list values rather than list values themselves"
   ]
  },
  {
   "cell_type": "markdown",
   "id": "58e9ca3e",
   "metadata": {},
   "source": [
    "17.How do you distinguish between copy.copy() and copy.deepcopy()?"
   ]
  },
  {
   "cell_type": "markdown",
   "id": "e05dc252",
   "metadata": {},
   "source": [
    "copy.copy() is shallow copy. i.e, A shallow copy creates a new object which stores the reference of the original elements.\n",
    "\n",
    "copy.deepcopy()  creates a new object and adds the copies of nested objects present in the original elements."
   ]
  },
  {
   "cell_type": "markdown",
   "id": "3ce3441e",
   "metadata": {},
   "source": [
    "               ------------------------ END --------------------------"
   ]
  },
  {
   "cell_type": "code",
   "execution_count": null,
   "id": "3fd43264",
   "metadata": {},
   "outputs": [],
   "source": []
  }
 ],
 "metadata": {
  "kernelspec": {
   "display_name": "Python 3 (ipykernel)",
   "language": "python",
   "name": "python3"
  },
  "language_info": {
   "codemirror_mode": {
    "name": "ipython",
    "version": 3
   },
   "file_extension": ".py",
   "mimetype": "text/x-python",
   "name": "python",
   "nbconvert_exporter": "python",
   "pygments_lexer": "ipython3",
   "version": "3.9.13"
  }
 },
 "nbformat": 4,
 "nbformat_minor": 5
}
